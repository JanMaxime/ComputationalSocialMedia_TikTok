{
 "cells": [
  {
   "cell_type": "markdown",
   "id": "proud-administrator",
   "metadata": {},
   "source": [
    "# Exploratory data analysis"
   ]
  },
  {
   "cell_type": "markdown",
   "id": "signal-context",
   "metadata": {},
   "source": [
    "## Imports"
   ]
  },
  {
   "cell_type": "code",
   "execution_count": 11,
   "id": "configured-malawi",
   "metadata": {},
   "outputs": [],
   "source": [
    "import pandas as pd\n",
    "import seaborn as sns\n",
    "import matplotlib.pyplot as plt\n",
    "from gensim.models import Word2Vec\n",
    "from sklearn.cluster import KMeans\n",
    "from sklearn import cluster\n",
    "from sklearn import metrics\n",
    "from sklearn.decomposition import PCA\n",
    "from scipy.cluster import hierarchy\n",
    "from sklearn.cluster import AgglomerativeClustering\n",
    "import re\n",
    "import numpy as np\n",
    "import matplotlib.pyplot as plt"
   ]
  },
  {
   "cell_type": "markdown",
   "id": "wooden-arbitration",
   "metadata": {},
   "source": [
    "## Load the data"
   ]
  },
  {
   "cell_type": "markdown",
   "id": "written-briefing",
   "metadata": {},
   "source": [
    "Lists that have been stored in CSV aren't automatically parsed by `pandas`. Thus this small function converts a string in the form `'{'banana', 'orange', 'tangerine'}'` in a Python list containing the same elements"
   ]
  },
  {
   "cell_type": "code",
   "execution_count": 12,
   "id": "clean-timber",
   "metadata": {},
   "outputs": [],
   "source": [
    "def string_to_list(column):\n",
    "    return [element.strip(\" \") for element in column.strip(\"{}\").replace(\"'\", \"\").split(\", \")]\n",
    "\n",
    "\n",
    "def combine_fyp(hashtag):\n",
    "    if re.search(r\"(^fy)|(^for)|(^4u)\", hashtag, flags=re.IGNORECASE):\n",
    "        return \"fyp\"\n",
    "    else:\n",
    "        return hashtag\n",
    "\n",
    "\n",
    "def clean_hashtag_list(hashtag_list):\n",
    "    return sorted(list(set([combine_fyp(hashtag) for hashtag in hashtag_list])))"
   ]
  },
  {
   "cell_type": "markdown",
   "id": "disciplinary-latter",
   "metadata": {},
   "source": [
    "Simply use `read_csv` to import the data. We ignore the first column since we do not need these repeating ids. We can then apply our `string_to_list` function to the list of hashtags"
   ]
  },
  {
   "cell_type": "code",
   "execution_count": 13,
   "id": "coupled-circumstances",
   "metadata": {},
   "outputs": [
    {
     "data": {
      "text/html": [
       "<div>\n",
       "<style scoped>\n",
       "    .dataframe tbody tr th:only-of-type {\n",
       "        vertical-align: middle;\n",
       "    }\n",
       "\n",
       "    .dataframe tbody tr th {\n",
       "        vertical-align: top;\n",
       "    }\n",
       "\n",
       "    .dataframe thead th {\n",
       "        text-align: right;\n",
       "    }\n",
       "</style>\n",
       "<table border=\"1\" class=\"dataframe\">\n",
       "  <thead>\n",
       "    <tr style=\"text-align: right;\">\n",
       "      <th></th>\n",
       "      <th>video_id</th>\n",
       "      <th>hashtags</th>\n",
       "      <th>date</th>\n",
       "      <th>user_id</th>\n",
       "      <th>n_likes</th>\n",
       "      <th>n_comments</th>\n",
       "      <th>n_shared</th>\n",
       "    </tr>\n",
       "  </thead>\n",
       "  <tbody>\n",
       "    <tr>\n",
       "      <th>0</th>\n",
       "      <td>-4937456930930190897</td>\n",
       "      <td>[aussie, biden2020, bidenharris2020, straya]</td>\n",
       "      <td>2020-11-07 01:51:07</td>\n",
       "      <td>-9074424973670462894</td>\n",
       "      <td>8300000</td>\n",
       "      <td>82700</td>\n",
       "      <td>238100</td>\n",
       "    </tr>\n",
       "    <tr>\n",
       "      <th>1</th>\n",
       "      <td>2837885220496618646</td>\n",
       "      <td>[biden, biden2020, election2020, fyp, fürdich,...</td>\n",
       "      <td>2020-11-06 18:11:03</td>\n",
       "      <td>7802184149743201610</td>\n",
       "      <td>7200000</td>\n",
       "      <td>154800</td>\n",
       "      <td>536900</td>\n",
       "    </tr>\n",
       "    <tr>\n",
       "      <th>2</th>\n",
       "      <td>-7616690630605139661</td>\n",
       "      <td>[biden2020, fyp]</td>\n",
       "      <td>2020-10-19 18:41:40</td>\n",
       "      <td>8599333060831776201</td>\n",
       "      <td>5000000</td>\n",
       "      <td>104800</td>\n",
       "      <td>400500</td>\n",
       "    </tr>\n",
       "    <tr>\n",
       "      <th>3</th>\n",
       "      <td>-1485617807006866345</td>\n",
       "      <td>[biden2020, fyp, parati, repost, trump, trump2...</td>\n",
       "      <td>2020-06-16 22:41:10</td>\n",
       "      <td>-2163225678390988754</td>\n",
       "      <td>5000000</td>\n",
       "      <td>136100</td>\n",
       "      <td>356100</td>\n",
       "    </tr>\n",
       "    <tr>\n",
       "      <th>4</th>\n",
       "      <td>8847244246175840872</td>\n",
       "      <td>[biden2020]</td>\n",
       "      <td>2020-10-31 23:04:55</td>\n",
       "      <td>8834409548135308984</td>\n",
       "      <td>4600000</td>\n",
       "      <td>68700</td>\n",
       "      <td>218100</td>\n",
       "    </tr>\n",
       "  </tbody>\n",
       "</table>\n",
       "</div>"
      ],
      "text/plain": [
       "              video_id                                           hashtags  \\\n",
       "0 -4937456930930190897       [aussie, biden2020, bidenharris2020, straya]   \n",
       "1  2837885220496618646  [biden, biden2020, election2020, fyp, fürdich,...   \n",
       "2 -7616690630605139661                                   [biden2020, fyp]   \n",
       "3 -1485617807006866345  [biden2020, fyp, parati, repost, trump, trump2...   \n",
       "4  8847244246175840872                                        [biden2020]   \n",
       "\n",
       "                 date              user_id  n_likes  n_comments  n_shared  \n",
       "0 2020-11-07 01:51:07 -9074424973670462894  8300000       82700    238100  \n",
       "1 2020-11-06 18:11:03  7802184149743201610  7200000      154800    536900  \n",
       "2 2020-10-19 18:41:40  8599333060831776201  5000000      104800    400500  \n",
       "3 2020-06-16 22:41:10 -2163225678390988754  5000000      136100    356100  \n",
       "4 2020-10-31 23:04:55  8834409548135308984  4600000       68700    218100  "
      ]
     },
     "execution_count": 13,
     "metadata": {},
     "output_type": "execute_result"
    }
   ],
   "source": [
    "tiktoks = pd.concat([pd.read_csv(\"./data/tiktoks_500.csv\", usecols=range(1,8), parse_dates=[\"date\"]), pd.read_csv(\"./data/tiktoks_100.csv\", usecols=range(1,8), parse_dates=[\"date\"]), pd.read_csv(\"./data/tiktoks.csv\", usecols=range(1,8), parse_dates=[\"date\"])]).drop_duplicates(\"video_id\")\n",
    "tiktoks.hashtags = tiktoks.hashtags.apply(string_to_list)\n",
    "tiktoks.hashtags = tiktoks.hashtags.apply(clean_hashtag_list)\n",
    "tiktoks.head(5)"
   ]
  },
  {
   "cell_type": "code",
   "execution_count": 50,
   "id": "fe87bb30-75c0-4ac8-b1d7-ce7e69f581e0",
   "metadata": {},
   "outputs": [],
   "source": [
    "tiktoks_exploded = tiktoks.explode(\"hashtags\")\n",
    "minimum_occurances = 10\n",
    "hashtag_value_counts = tiktoks_exploded[\"hashtags\"].value_counts()\n",
    "hash_list = hashtag_value_counts[hashtag_value_counts > minimum_occurances].index.tolist()"
   ]
  },
  {
   "cell_type": "markdown",
   "id": "awful-virtue",
   "metadata": {},
   "source": [
    "## Word2Vec"
   ]
  },
  {
   "cell_type": "code",
   "execution_count": 52,
   "id": "8ede9ebf-7eb1-49e4-9e96-efdf409284d2",
   "metadata": {},
   "outputs": [],
   "source": [
    "vector_size=50\n",
    "word2vec = Word2Vec(tiktoks.hashtags, vector_size=vector_size, min_count=1)"
   ]
  },
  {
   "cell_type": "code",
   "execution_count": 53,
   "id": "aa39f9ea-d355-418d-9392-f064fe17fb77",
   "metadata": {},
   "outputs": [],
   "source": [
    "def vectorize(hashtags, word2vec):\n",
    "    vec = np.zeros(vector_size)\n",
    "    a = True\n",
    "    for hashtag in hashtags:\n",
    "        if hashtag == \"fyp\" or not hashtag in hash_list:\n",
    "            continue\n",
    "        if a:\n",
    "            vec = word2vec.wv[hashtag]\n",
    "        else:\n",
    "            vec = np.add(vec, word2vec.wv[hashtag])\n",
    "    return np.asarray(vec)/len(vec)"
   ]
  },
  {
   "cell_type": "code",
   "execution_count": 54,
   "id": "28a9de18-2b61-430d-ab93-e9a8b48be7ed",
   "metadata": {},
   "outputs": [],
   "source": [
    "X = np.array([vectorize(hashtags, word2vec) for hashtags in tiktoks.hashtags])"
   ]
  },
  {
   "cell_type": "code",
   "execution_count": 55,
   "id": "1b098f5c-d494-4beb-840f-96019b87e090",
   "metadata": {},
   "outputs": [
    {
     "data": {
      "text/plain": [
       "(8370, 50)"
      ]
     },
     "execution_count": 55,
     "metadata": {},
     "output_type": "execute_result"
    }
   ],
   "source": [
    "X.shape"
   ]
  },
  {
   "cell_type": "markdown",
   "id": "f2b594f0-abef-434a-80b5-ca5a8df18d20",
   "metadata": {},
   "source": [
    "## KMeans clustering"
   ]
  },
  {
   "cell_type": "code",
   "execution_count": 56,
   "id": "d7408513-fe27-4899-9b4d-fcda8037f6e4",
   "metadata": {},
   "outputs": [],
   "source": [
    "wcss = list()\n",
    "for n in range(1,10):\n",
    "    kmeans = KMeans(n_clusters=n, init=\"k-means++\", random_state=100)\n",
    "    kmeans.fit(X)\n",
    "    wcss.append(kmeans.inertia_)"
   ]
  },
  {
   "cell_type": "markdown",
   "id": "c4657f3d-6371-4cf2-b2b2-8a6d07cb429c",
   "metadata": {},
   "source": [
    "Let's find the optimal numver of clusters using the elboew method"
   ]
  },
  {
   "cell_type": "code",
   "execution_count": 57,
   "id": "632380aa-6e94-4514-9eb9-fc1b8e0897fa",
   "metadata": {},
   "outputs": [
    {
     "data": {
      "image/png": "[encoded data removed]",
      "text/plain": [
       "<Figure size 432x288 with 1 Axes>"
      ]
     },
     "metadata": {
      "needs_background": "light"
     },
     "output_type": "display_data"
    }
   ],
   "source": [
    "plt.plot(range(1,10), wcss)\n",
    "plt.title(\"Elbow method\")\n",
    "plt.xlabel(\"Number of clusters\")\n",
    "plt.ylabel(\"WCSS\")\n",
    "plt.show()"
   ]
  },
  {
   "cell_type": "markdown",
   "id": "f847ec3f-4d67-497e-95c2-607ec62155ad",
   "metadata": {},
   "source": [
    "It seems like the optimal number is 2. So let's create a Kmeans with two centroids"
   ]
  },
  {
   "cell_type": "code",
   "execution_count": 75,
   "id": "390d4de7-7715-492a-b356-fc0063e40bef",
   "metadata": {},
   "outputs": [],
   "source": [
    "n_clusters = 2\n",
    "clf = KMeans(n_clusters=n_clusters, max_iter=100, init=\"k-means++\", n_init=1)\n",
    "labels = clf.fit_predict(X)\n",
    "tiktoks[\"label\"] = labels"
   ]
  },
  {
   "cell_type": "markdown",
   "id": "7f4fb28d-7914-4d5c-bb1d-2c11a74dcc9b",
   "metadata": {},
   "source": [
    "We can try to visualize these clusters on a 2d plane after transforming them using PCA"
   ]
  },
  {
   "cell_type": "code",
   "execution_count": 76,
   "id": "6cd255c1-68b5-461b-b828-1f83212df965",
   "metadata": {},
   "outputs": [
    {
     "data": {
      "image/png": "[encoded data removed]",
      "text/plain": [
       "<Figure size 432x288 with 1 Axes>"
      ]
     },
     "metadata": {
      "needs_background": "light"
     },
     "output_type": "display_data"
    }
   ],
   "source": [
    "pca = PCA(n_components=2).fit(X)\n",
    "coords = pca.transform(X)\n",
    "label_colors = [\"#FF7777\", \"#77FF77\"]\n",
    "colors = [label_colors[i] for i in labels]\n",
    "plt.scatter(coords[:,0], coords[:,1], c=colors)\n",
    "centroids = clf.cluster_centers_\n",
    "centroid_coords = pca.transform(centroids)\n",
    "plt.scatter(centroid_coords[:,0], centroid_coords[:,1], marker=\"X\", s=200, linewidths=2)\n",
    "plt.title(\"Clustered videos\", fontsize=20)\n",
    "plt.xlabel(\"First PC\", fontsize=14)\n",
    "plt.ylabel(\"Second PC\", fontsize=14)\n",
    "plt.show()"
   ]
  },
  {
   "cell_type": "code",
   "execution_count": 91,
   "id": "b2aa86aa-0355-4545-9537-ef76895a8519",
   "metadata": {},
   "outputs": [
    {
     "data": {
      "text/plain": [
       "{'2020vision',\n",
       " 'abortion',\n",
       " 'barackobama',\n",
       " 'bidenpresident2020',\n",
       " 'billyblanksjr',\n",
       " 'blackconservative',\n",
       " 'capitalism',\n",
       " 'celebrity',\n",
       " 'clown',\n",
       " 'democrathypehouse',\n",
       " 'dnc',\n",
       " 'donald',\n",
       " 'elect',\n",
       " 'elections2020🇺🇸',\n",
       " 'famous',\n",
       " 'fürdich',\n",
       " 'hero',\n",
       " 'howto',\n",
       " 'libertarian',\n",
       " 'maketheswitch',\n",
       " 'morph',\n",
       " 'nevertrump',\n",
       " 'openyoureyes',\n",
       " 'patriot',\n",
       " 'politica',\n",
       " 'red',\n",
       " 'summer2020',\n",
       " 'theoffice',\n",
       " 'trumpismypresident',\n",
       " 'trumptrain2020👊🇺🇸🇺🇸🇺🇸🇺🇸'}"
      ]
     },
     "execution_count": 91,
     "metadata": {},
     "output_type": "execute_result"
    }
   ],
   "source": [
    "tiktoks_exploded = tiktoks.explode(\"hashtags\")\n",
    "\n",
    "set(tiktoks_exploded.query(\"label == 1\")[\"hashtags\"].value_counts().index).difference(set(tiktoks_exploded.query(\"label == 0\")[\"hashtags\"].value_counts().index)).intersection(set(hash_list))"
   ]
  },
  {
   "cell_type": "markdown",
   "id": "3e0af58f-4ac6-47b9-ad1f-7aaf38f20550",
   "metadata": {},
   "source": [
    "## Hierarchichal clustering"
   ]
  },
  {
   "cell_type": "code",
   "execution_count": 92,
   "id": "ea6c4a88-88c2-4d46-8387-ddb9aeca1f5c",
   "metadata": {},
   "outputs": [
    {
     "data": {
      "image/png": "[encoded data removed]",
      "text/plain": [
       "<Figure size 432x288 with 1 Axes>"
      ]
     },
     "metadata": {
      "needs_background": "light"
     },
     "output_type": "display_data"
    }
   ],
   "source": [
    "Z=hierarchy.linkage(X, \"ward\")\n",
    "dn = hierarchy.dendrogram(Z)"
   ]
  },
  {
   "cell_type": "markdown",
   "id": "f8b154ea-bc62-4c3a-aefa-53a40e605218",
   "metadata": {},
   "source": [
    "Again this analysis shows that there are 2 clusters. Let's try to visualize them on a 2d plane with PCA"
   ]
  },
  {
   "cell_type": "code",
   "execution_count": 95,
   "id": "7ef31bb6-9f23-4ef8-90de-9176d4865dd0",
   "metadata": {},
   "outputs": [],
   "source": [
    "hc = AgglomerativeClustering(n_clusters=2, linkage=\"ward\")\n",
    "y_hc = hc.fit_predict(X)\n",
    "tiktoks[\"label2\"] = y_hc"
   ]
  },
  {
   "cell_type": "code",
   "execution_count": null,
   "id": "3a20a1d8-7404-4430-9605-5c22c249add3",
   "metadata": {},
   "outputs": [],
   "source": [
    "tiktoks_exploded = tiktoks.explode(\"hashtags\")\n",
    "hash"
   ]
  },
  {
   "cell_type": "code",
   "execution_count": 96,
   "id": "c68b1313-0180-44c2-b7f3-338d9f70d5d0",
   "metadata": {},
   "outputs": [
    {
     "data": {
      "image/png": "[encoded data removed]",
      "text/plain": [
       "<Figure size 432x288 with 1 Axes>"
      ]
     },
     "metadata": {
      "needs_background": "light"
     },
     "output_type": "display_data"
    }
   ],
   "source": [
    "colors = [label_colors[i] for i in y_hc]\n",
    "plt.scatter(coords[:,0], coords[:,1], c=colors)\n",
    "plt.show()"
   ]
  },
  {
   "cell_type": "code",
   "execution_count": null,
   "id": "186a5329-cfaa-46db-aa93-14751b201397",
   "metadata": {},
   "outputs": [],
   "source": []
  }
 ],
 "metadata": {
  "kernelspec": {
   "display_name": "Python 3",
   "language": "python",
   "name": "python3"
  },
  "language_info": {
   "codemirror_mode": {
    "name": "ipython",
    "version": 3
   },
   "file_extension": ".py",
   "mimetype": "text/x-python",
   "name": "python",
   "nbconvert_exporter": "python",
   "pygments_lexer": "ipython3",
   "version": "3.8.8"
  }
 },
 "nbformat": 4,
 "nbformat_minor": 5
}
